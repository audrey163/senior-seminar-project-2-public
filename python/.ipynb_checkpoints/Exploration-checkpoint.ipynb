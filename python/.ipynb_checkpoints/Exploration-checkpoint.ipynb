{
 "cells": [
  {
   "cell_type": "code",
   "execution_count": 24,
   "id": "631814dd",
   "metadata": {},
   "outputs": [],
   "source": [
    "import numpy\n",
    "import numpy as np\n",
    "import matplotlib.pyplot as plt\n",
    "import torch\n",
    "import torch.nn as nn\n",
    "import pprint as pp\n",
    "import matplotlib.pyplot as plt\n",
    "import torch\n",
    "import torch.nn as nn\n",
    "import torch.nn.functional as F\n",
    "import torch.optim as optim\n",
    "from torchvision import datasets, transforms\n",
    "import matplotlib.pyplot as plt\n",
    "\n",
    "from dynamicalsystems import SimplePendulum\n",
    "from regression import PolynomialLibrary, TrigLibrary"
   ]
  },
  {
   "cell_type": "code",
   "execution_count": 25,
   "id": "3fdee97b-ffc5-471c-aa96-29ff9ec4f0b2",
   "metadata": {},
   "outputs": [],
   "source": [
    "class SINDy(nn.Module):\n",
    "    def __init__(\n",
    "        self,\n",
    "        X, \n",
    "        X_dot=None, \n",
    "        libs=None, \n",
    "        feature_names=None\n",
    "    ):\n",
    "        super(SINDy, self).__init__()\n",
    "\n",
    "        n,m = X.size()\n",
    "        if feature_names == None:\n",
    "            feature_names = [f'x{i+1}' for i in range(m)]\n",
    "\n",
    "        self.X = X\n",
    "        self.X_dot = X_dot\n",
    "        self.feature_names = feature_names\n",
    "        self.num_features  = m\n",
    "        self.num_snapshots = n\n",
    "\n",
    "        self.candidate_terms = [ lambda x: torch.ones(self.num_snapshots) ]\n",
    "        self.candidate_names = ['1']\n",
    "        for lib in libs:\n",
    "            lib_candidates = lib.get_candidates(self.num_features, feature_names)\n",
    "            for term, name in lib_candidates:\n",
    "                self.candidate_terms.append(term)\n",
    "                self.candidate_names.append(name)\n",
    "\n",
    "        self.SINDy_forward = nn.Linear(\n",
    "            len(self.candidate_terms), \n",
    "            self.num_features, \n",
    "            bias=False\n",
    "        )\n",
    "        \n",
    "    def library(self):\n",
    "        print('library candidate terms:')\n",
    "        return self.candidate_names\n",
    "    \n",
    "    def model_parameters(self):\n",
    "        params = list(self.parameters())[0]\n",
    "        return params\n",
    "    \n",
    "    def theta(self,X):\n",
    "        return torch.stack(tuple(f(X) for f in self.candidate_terms), axis=1)\n",
    "\n",
    "    def forward(self):\n",
    "        theta_X = self.theta(self.X)\n",
    "        \n",
    "        # X_dot_predict = f(X) = Θ(X)Ξ = Θ(X)[ ξ1, ξ2, ..., ξn ]\n",
    "        X_dot_predict = self.SINDy_forward(theta_X)\n",
    "        return X_dot_predict"
   ]
  },
  {
   "cell_type": "code",
   "execution_count": 26,
   "id": "96b568d3-c708-4898-aecf-6f1a46532859",
   "metadata": {},
   "outputs": [],
   "source": [
    "sp = SimplePendulum(g=9.8,l=2,mu=0.5,theta0=np.pi/2) # Simple Pendulum simulated in state space\n",
    "\n",
    "sp.embed(n=10,mat='RANDN',mu=0,sigma=0.0) #embed the pendulum in a higer diminsional space with noise"
   ]
  },
  {
   "cell_type": "code",
   "execution_count": 27,
   "id": "32e467ce",
   "metadata": {},
   "outputs": [
    {
     "name": "stdout",
     "output_type": "stream",
     "text": [
      "['U', 'dU', 'X', 'dX']\n"
     ]
    }
   ],
   "source": [
    "data = sp.to_torch() #get the torch tensors\n",
    "\n",
    "print(list(data)) # U and dU are the state space representation theta while X and dX are embeded they are our transformed data "
   ]
  },
  {
   "cell_type": "code",
   "execution_count": 20,
   "id": "18bd7b47-a4be-4273-9aa3-29abd8bfb7ae",
   "metadata": {},
   "outputs": [
    {
     "name": "stdout",
     "output_type": "stream",
     "text": [
      "tensor([[ 0.5078, -0.7740,  1.4034,  2.2963, -3.2695, -0.2759,  0.7697, -2.9102,\n",
      "          1.1880,  0.2308],\n",
      "        [-0.3477,  0.1712,  3.9977, -1.6840, -2.0394, -0.6260,  1.1466, -1.0190,\n",
      "          6.1898, -0.4167],\n",
      "        [-0.0800,  0.3261, -3.0418, -0.2983,  2.9488,  0.5071, -1.0734,  2.1718,\n",
      "         -4.1710,  0.1108]])\n",
      "tensor([[-0.5653,  0.1233,  8.6407, -2.7861, -5.1632, -1.3697,  2.5870, -2.9573,\n",
      "         13.0877, -0.7892],\n",
      "        [-0.5059,  1.1159, -6.1616, -2.1805,  7.3672,  1.0577, -2.3747,  5.7925,\n",
      "         -7.9111,  0.0186],\n",
      "        [ 0.7371, -0.7328, -3.3636,  3.4550, -0.0865,  0.4871, -0.7056, -0.9443,\n",
      "         -5.9033,  0.6168]])\n",
      "tensor([[ 1.5708,  0.0000],\n",
      "        [-0.2258, -2.3814],\n",
      "        [-0.7309,  1.3546]])\n",
      "tensor([[ 0.0000, -4.9000],\n",
      "        [-2.3814,  2.2876],\n",
      "        [ 1.3546,  2.5938]])\n"
     ]
    }
   ],
   "source": [
    "#data['X'] is the X data\n",
    "#data['dX'] is the dX computed from f(t,x)\n",
    "#data['U'] and data['dU'] are the ground truth of the dynamical system in [theta, thetadot] state space\n",
    "print(data['X'][0:300:100,:]) \n",
    "print(data['dX'][0:300:100,:])\n",
    "print(data['U'][0:300:100,:])\n",
    "print(data['dU'][0:300:100,:])"
   ]
  },
  {
   "cell_type": "code",
   "execution_count": 28,
   "id": "94717f2c-5c73-48e2-b2ba-8dc3729eba69",
   "metadata": {},
   "outputs": [],
   "source": [
    "libs = [ PolynomialLibrary(max_degree=1), TrigLibrary() ]\n",
    "\n",
    "sindy = SINDy(\n",
    "    data['U'],\n",
    "    X_dot = data['dU'],\n",
    "     libs=libs,\n",
    "     feature_names=['x', 'y']\n",
    ")"
   ]
  },
  {
   "cell_type": "code",
   "execution_count": 30,
   "id": "5cf6c783-69ec-4b67-9a55-7249234fc075",
   "metadata": {},
   "outputs": [],
   "source": [
    "class Autoencoder(nn.Module):\n",
    "    def __init__(self):\n",
    "        super().__init__()\n",
    "        self.libs = [ PolynomialLibrary(max_degree=1), TrigLibrary() ]\n",
    "\n",
    "        self.encoder = nn.Sequential(\n",
    "            nn.Linear(10, 8),\n",
    "            nn.ReLU(),\n",
    "            nn.Linear(8, 4),\n",
    "            nn.ReLU(),\n",
    "            nn.Linear(4, 2) # -> N, 3\n",
    "        )\n",
    "        \n",
    "        self.decoder = nn.Sequential(\n",
    "            nn.Linear(2,4),\n",
    "            nn.ReLU(),\n",
    "            nn.Linear(4,8),\n",
    "            nn.ReLU(),\n",
    "            nn.Linear(8,10)\n",
    "        )\n",
    "\n",
    "    def forward(self, x):\n",
    "        encoded = self.encoder(x)\n",
    "        decoded = self.decoder(encoded)\n",
    "        return decoded\n",
    "\n",
    "    def get_dZ(self,x,dx):\n",
    "        J = torch.autograd.functional.jacobian(self.encoder, x)\n",
    "        return torch.matmul(J.T,dx)\n",
    " \n",
    "    # def get_dX(self,z,dz):\n",
    "    #     J = torch.autograd.functional.jacobian(self.decoder, z)\n",
    "    #     return torch.matmul(J.T,dz)\n",
    "\n",
    "    def loss(self,x,dx):\n",
    "        z = self.encoder(x)\n",
    "        dz = self.get_dZ(x,dx)\n",
    "        x_pred = self.decoder(z)\n",
    "        #dx_pred = self.get_dX(z,dz)\n",
    "        return torch.norm(x-x_pred)#+torch.norm(dx_pred-dx)\n",
    "# Input [-1, +1] -> use nn.Tanh"
   ]
  },
  {
   "cell_type": "code",
   "execution_count": null,
   "id": "24ca16ec-ef20-42fd-9028-69205a1d6049",
   "metadata": {},
   "outputs": [],
   "source": []
  },
  {
   "cell_type": "code",
   "execution_count": 31,
   "id": "6109e17c-8ebe-4218-8e3c-86af490fd52f",
   "metadata": {},
   "outputs": [],
   "source": [
    "model = Autoencoder()\n",
    "\n",
    "optimizer = torch.optim.Adam(model.parameters(),lr=1e-3)"
   ]
  },
  {
   "cell_type": "code",
   "execution_count": 32,
   "id": "ca6392fc-ba56-494e-bff6-fc1b2f31b42d",
   "metadata": {},
   "outputs": [
    {
     "data": {
      "text/plain": [
       "tensor([[ 0.0109,  0.1931,  0.0431,  ...,  0.5645, -0.5122, -0.0158],\n",
       "        [ 0.0109,  0.1931,  0.0432,  ...,  0.5645, -0.5120, -0.0158],\n",
       "        [ 0.0108,  0.1931,  0.0432,  ...,  0.5644, -0.5119, -0.0159],\n",
       "        ...,\n",
       "        [ 0.0097,  0.1928,  0.0434,  ...,  0.5639, -0.5096, -0.0164],\n",
       "        [ 0.0097,  0.1928,  0.0434,  ...,  0.5639, -0.5096, -0.0164],\n",
       "        [ 0.0097,  0.1928,  0.0434,  ...,  0.5639, -0.5096, -0.0164]],\n",
       "       grad_fn=<AddmmBackward0>)"
      ]
     },
     "execution_count": 32,
     "metadata": {},
     "output_type": "execute_result"
    }
   ],
   "source": [
    "model.forward(data['X'])"
   ]
  },
  {
   "cell_type": "code",
   "execution_count": 33,
   "id": "52701ef4-a82c-41c8-b1af-f497f03472be",
   "metadata": {},
   "outputs": [],
   "source": [
    "# Point to training loop video\n",
    "num_epochs = 100\n",
    "#outputs = []\n",
    "losses = []\n",
    "\n",
    "for epoch in range(num_epochs):\n",
    "    # #recon = model(data['X'])\n",
    "    #     z = self.encoder(x)\n",
    "    #     #dz = self.get_dZ(x,dx)\n",
    "    #     x_pred = self.decoder(z)\n",
    "    #     #dx_pred = self.get_dX(z,dz)\n",
    "    #     return torch.norm(x-x_pred)#+torch.norm(dx_pred-dx)  \n",
    "    loss = model.loss(data['X'],data['dX'])\n",
    "        \n",
    "    optimizer.zero_grad()\n",
    "    loss.backward()\n",
    "    optimizer.step()\n",
    "\n",
    "    #outputs.append((epoch, data['X'], recon))\n",
    "    #print(f'Epoch:{epoch+1}, Loss:{loss.item():.4f}')\n",
    "    losses.append(loss.item())"
   ]
  },
  {
   "cell_type": "code",
   "execution_count": 34,
   "id": "cc60278b-8e43-46ac-833d-a7a9f6d31ed7",
   "metadata": {},
   "outputs": [
    {
     "data": {
      "text/plain": [
       "Text(0.5, 1.0, 'log loss')"
      ]
     },
     "execution_count": 34,
     "metadata": {},
     "output_type": "execute_result"
    },
    {
     "data": {
      "image/png": "[encoded data removed]",
      "text/plain": [
       "<Figure size 432x288 with 1 Axes>"
      ]
     },
     "metadata": {
      "needs_background": "light"
     },
     "output_type": "display_data"
    }
   ],
   "source": [
    "plt.plot(np.log(np.array(losses)))\n",
    "plt.title(\"log loss\")"
   ]
  },
  {
   "cell_type": "code",
   "execution_count": 10,
   "id": "0e88039b-1d37-4fc9-a299-333411072276",
   "metadata": {},
   "outputs": [],
   "source": [
    "x = data['dX'][0:20,:]\n",
    "dx = data['dX'][0:20,:]\n",
    "\n",
    "z = model.encoder(x)\n",
    "dz = model.get_dZ(x,dx)"
   ]
  },
  {
   "cell_type": "code",
   "execution_count": 11,
   "id": "b9f9c53e-b051-424c-8412-c01e2a451b1f",
   "metadata": {},
   "outputs": [
    {
     "data": {
      "text/plain": [
       "tensor([[-3.6713,  4.4534],\n",
       "        [-3.6648,  4.4461],\n",
       "        [-3.6584,  4.4388],\n",
       "        [-3.6520,  4.4316],\n",
       "        [-3.6457,  4.4244],\n",
       "        [-3.6394,  4.4172],\n",
       "        [-3.6330,  4.4100],\n",
       "        [-3.6266,  4.4028],\n",
       "        [-3.6202,  4.3955],\n",
       "        [-3.6138,  4.3882],\n",
       "        [-3.6073,  4.3808],\n",
       "        [-3.6007,  4.3733],\n",
       "        [-3.5939,  4.3656],\n",
       "        [-3.5866,  4.3573],\n",
       "        [-3.5790,  4.3488],\n",
       "        [-3.5713,  4.3400],\n",
       "        [-3.5633,  4.3309],\n",
       "        [-3.5550,  4.3216],\n",
       "        [-3.5465,  4.3118],\n",
       "        [-3.5375,  4.3016]], grad_fn=<AddmmBackward0>)"
      ]
     },
     "execution_count": 11,
     "metadata": {},
     "output_type": "execute_result"
    }
   ],
   "source": [
    "z"
   ]
  },
  {
   "cell_type": "code",
   "execution_count": 12,
   "id": "4a6dd857-09b5-4166-85e7-56d158fa001d",
   "metadata": {},
   "outputs": [
    {
     "data": {
      "text/plain": [
       "torch.Size([20, 2])"
      ]
     },
     "execution_count": 12,
     "metadata": {},
     "output_type": "execute_result"
    }
   ],
   "source": [
    "z.shape"
   ]
  },
  {
   "cell_type": "code",
   "execution_count": 13,
   "id": "2a10a566-2d4d-4e72-87dd-81042769dad7",
   "metadata": {},
   "outputs": [
    {
     "data": {
      "text/plain": [
       "torch.Size([10, 20, 2, 10])"
      ]
     },
     "execution_count": 13,
     "metadata": {},
     "output_type": "execute_result"
    }
   ],
   "source": [
    "dz.shape"
   ]
  },
  {
   "cell_type": "code",
   "execution_count": 14,
   "id": "bbbc54df-87f8-4be7-b4d8-6dc8c85e295e",
   "metadata": {},
   "outputs": [
    {
     "ename": "TypeError",
     "evalue": "get_dZ() missing 1 required positional argument: 'dx'",
     "output_type": "error",
     "traceback": [
      "\u001b[0;31m---------------------------------------------------------------------------\u001b[0m",
      "\u001b[0;31mTypeError\u001b[0m                                 Traceback (most recent call last)",
      "Input \u001b[0;32mIn [14]\u001b[0m, in \u001b[0;36m<cell line: 1>\u001b[0;34m()\u001b[0m\n\u001b[0;32m----> 1\u001b[0m dZ \u001b[38;5;241m=\u001b[39m \u001b[43mmodel\u001b[49m\u001b[38;5;241;43m.\u001b[39;49m\u001b[43mget_dZ\u001b[49m\u001b[43m(\u001b[49m\u001b[43mdx\u001b[49m\u001b[43m)\u001b[49m\n",
      "\u001b[0;31mTypeError\u001b[0m: get_dZ() missing 1 required positional argument: 'dx'"
     ]
    }
   ],
   "source": [
    "dZ = model.get_dZ(dx)"
   ]
  },
  {
   "cell_type": "code",
   "execution_count": null,
   "id": "ba8ad448-ecf4-4fa9-b203-fc40f70193fb",
   "metadata": {},
   "outputs": [],
   "source": [
    "dZ.shape"
   ]
  },
  {
   "cell_type": "code",
   "execution_count": null,
   "id": "717a92bf-b3db-4867-b06b-935a686c7ec4",
   "metadata": {},
   "outputs": [],
   "source": [
    "_z = Z.detach().numpy()\n",
    "plt.plot(_z[:,0],_z[:,1])\n",
    "plt.title(\"Z\")"
   ]
  },
  {
   "cell_type": "code",
   "execution_count": null,
   "id": "cd281e7f-3eb1-40c8-9f3d-25cd98aacba9",
   "metadata": {},
   "outputs": [],
   "source": [
    "x = data['X'][0,:]\n",
    "dx = data['dX'][0,:]\n",
    "z = model.encoder(x).detach().numpy().reshape(-1,1)\n",
    "\n",
    "J = torch.autograd.functional.jacobian(model.encoder, dx).detach().numpy()\n",
    "\n",
    "dz = np.dot(J.T,z)\n",
    "\n",
    "print(dz.shape)"
   ]
  },
  {
   "cell_type": "code",
   "execution_count": null,
   "id": "064836c4-5c4d-4d3b-889a-affa9b381ec9",
   "metadata": {},
   "outputs": [],
   "source": [
    "x = data['X'][0,:]\n",
    "dx = data['dX'][0,:]\n",
    "z = model.encoder(x)\n",
    "\n",
    "J = torch.autograd.functional.jacobian(model.encoder, dx)\n",
    "\n",
    "print(z.shape)\n",
    "print(J.shape)\n",
    "dz = torch.matmul(J.T,z)\n"
   ]
  },
  {
   "cell_type": "code",
   "execution_count": null,
   "id": "8d9ff727-ddc8-41c0-905c-843064d67b0b",
   "metadata": {},
   "outputs": [],
   "source": [
    "X = torch.Tensor(sp.Z.T)\n",
    "recon = model(X)"
   ]
  },
  {
   "cell_type": "raw",
   "id": "3f828180-b414-4250-8288-275c31d48fca",
   "metadata": {},
   "source": [
    "loss = criterion(recon, X)\n",
    "optimizer.zero_grad()\n",
    "loss.backward()\n",
    "optimizer.step()\n"
   ]
  },
  {
   "cell_type": "code",
   "execution_count": null,
   "id": "6a4cbc4d-d276-482c-a4a1-09cec2c0b447",
   "metadata": {},
   "outputs": [],
   "source": [
    "recon"
   ]
  },
  {
   "cell_type": "code",
   "execution_count": null,
   "id": "72a0c755",
   "metadata": {},
   "outputs": [],
   "source": [
    "class SINDy(nn.Module):\n",
    "    def __init__(\n",
    "        self,\n",
    "        X, \n",
    "        X_dot=None, \n",
    "        libs=None, \n",
    "        feature_names=None\n",
    "    ):\n",
    "        super(SINDy, self).__init__()\n",
    "\n",
    "        n,m = X.size()\n",
    "        if feature_names == None:\n",
    "            feature_names = [f'x{i+1}' for i in range(m)]\n",
    "\n",
    "        self.X = X\n",
    "        self.X_dot = X_dot\n",
    "        self.feature_names = feature_names\n",
    "        self.num_features  = m\n",
    "        self.num_snapshots = n\n",
    "\n",
    "        self.candidate_terms = [ lambda x: torch.ones(self.num_snapshots) ]\n",
    "        self.candidate_names = ['1']\n",
    "        for lib in libs:\n",
    "            lib_candidates = lib.get_candidates(self.num_features, feature_names)\n",
    "            for term, name in lib_candidates:\n",
    "                self.candidate_terms.append(term)\n",
    "                self.candidate_names.append(name)\n",
    "\n",
    "        self.SINDy_forward = nn.Linear(\n",
    "            len(self.candidate_terms), \n",
    "            self.num_features, \n",
    "            bias=False\n",
    "        )\n",
    "        \n",
    "    def library(self):\n",
    "        print('library candidate terms:')\n",
    "        return self.candidate_names\n",
    "    \n",
    "    def model_parameters(self):\n",
    "        params = list(self.parameters())[0]\n",
    "        return params\n",
    "    \n",
    "    def theta(self,X):\n",
    "        return torch.stack(tuple(f(X) for f in self.candidate_terms), axis=1)\n",
    "\n",
    "    def forward(self):\n",
    "        theta_X = self.theta(self.X)\n",
    "        \n",
    "        # X_dot_predict = f(X) = Θ(X)Ξ = Θ(X)[ ξ1, ξ2, ..., ξn ]\n",
    "        X_dot_predict = self.SINDy_forward(theta_X)\n",
    "        return X_dot_predict"
   ]
  },
  {
   "cell_type": "code",
   "execution_count": null,
   "id": "ebd42d24",
   "metadata": {},
   "outputs": [],
   "source": [
    "# # \n",
    "# t = torch.linspace(0,2,100)\n",
    "\n",
    "# x = 10 * torch.exp(- 0.5 * t)\n",
    "# y = -2 * torch.exp(3 * t)\n",
    "\n",
    "# x_dot = - 0.5 * x\n",
    "# y_dot = 3 * y\n",
    "\n",
    "# X = torch.stack((x,y), dim=-1)\n",
    "# X_dot = torch.stack((x_dot,y_dot), dim=-1)\n",
    "# X[:5]\n",
    "\n",
    "# X_dot[:5,:]\n",
    "# ###################################################################################\n",
    "\n",
    "\n",
    "\n",
    "\n",
    "# libs  = [\n",
    "#   PolynomialLibrary(max_degree=1),\n",
    "#   TrigLibrary()\n",
    "# ]\n",
    "\n",
    "# sindy = SINDy(\n",
    "#     X, \n",
    "#     X_dot=X_dot, \n",
    "#     libs=libs,\n",
    "#     feature_names=['x', 'y']\n",
    "# )\n",
    "\n",
    "# print(sindy.library())\n",
    "# print(sindy.model_parameters())"
   ]
  },
  {
   "cell_type": "code",
   "execution_count": null,
   "id": "94658ebf",
   "metadata": {},
   "outputs": [],
   "source": [
    "# norm_2 = lambda X: torch.linalg.norm(X)\n",
    "\n",
    "# loss_fn = lambda X, X_pred: norm_2(X - X_pred)\n",
    "# optimizer = torch.optim.Adam(sindy.parameters(), lr=1e-3)"
   ]
  },
  {
   "cell_type": "code",
   "execution_count": null,
   "id": "c274c33d",
   "metadata": {},
   "outputs": [],
   "source": [
    "# epochs = 10000\n",
    "\n",
    "# for t in range(epochs):\n",
    "    \n",
    "#     X_dot_pred = sindy()\n",
    "#     loss = loss_fn(X_dot, X_dot_pred)\n",
    "    \n",
    "#     optimizer.zero_grad()\n",
    "#     loss.backward()\n",
    "#     optimizer.step()\n",
    "    \n",
    "#     if t % 1000 == 0:\n",
    "#         print(loss)\n",
    "\n",
    "# print(sindy.library())\n",
    "# sindy.model_parameters()"
   ]
  },
  {
   "cell_type": "code",
   "execution_count": null,
   "id": "d7bcd1c6",
   "metadata": {},
   "outputs": [],
   "source": [
    "# x1 = torch.tensor([\n",
    "#     [1,2],\n",
    "#     [3,4]\n",
    "# ])\n",
    "# x2 = x1 * 10\n",
    "# [*x for x in [x1,x2]]"
   ]
  }
 ],
 "metadata": {
  "kernelspec": {
   "display_name": "Python 3 (ipykernel)",
   "language": "python",
   "name": "python3"
  },
  "language_info": {
   "codemirror_mode": {
    "name": "ipython",
    "version": 3
   },
   "file_extension": ".py",
   "mimetype": "text/x-python",
   "name": "python",
   "nbconvert_exporter": "python",
   "pygments_lexer": "ipython3",
   "version": "3.9.10"
  }
 },
 "nbformat": 4,
 "nbformat_minor": 5
}
