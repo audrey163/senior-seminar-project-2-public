{
 "cells": [
  {
   "cell_type": "code",
   "execution_count": 1,
   "id": "631814dd",
   "metadata": {},
   "outputs": [],
   "source": [
    "import numpy\n",
    "import numpy as np\n",
    "import matplotlib.pyplot as plt\n",
    "import torch\n",
    "import torch.nn as nn\n",
    "import pprint as pp\n",
    "import matplotlib.pyplot as plt\n",
    "import torch\n",
    "import torch.nn as nn\n",
    "import torch.nn.functional as F\n",
    "import torch.optim as optim\n",
    "from torchvision import datasets, transforms\n",
    "import matplotlib.pyplot as plt\n",
    "\n",
    "from dynamicalsystems import SimplePendulum\n",
    "from regression import PolynomialLibrary, TrigLibrary"
   ]
  },
  {
   "cell_type": "code",
   "execution_count": 2,
   "id": "96b568d3-c708-4898-aecf-6f1a46532859",
   "metadata": {},
   "outputs": [],
   "source": [
    "sp = SimplePendulum(g=9.8,l=2,mu=0.5,theta0=np.pi/2) # Simple Pendulum simulated in state space\n",
    "\n",
    "sp.embed(n=10,mat='RANDN',mu=0,sigma=0.0) #embed the pendulum in a higer diminsional space with noise"
   ]
  },
  {
   "cell_type": "code",
   "execution_count": 3,
   "id": "32e467ce",
   "metadata": {},
   "outputs": [
    {
     "name": "stdout",
     "output_type": "stream",
     "text": [
      "['U', 'dU', 'X', 'dX']\n"
     ]
    }
   ],
   "source": [
    "data = sp.to_torch() #get the torch tensors\n",
    "\n",
    "print(list(data)) # U and dU are the state space representation theta while X and dX are embeded they are our transformed data "
   ]
  },
  {
   "cell_type": "code",
   "execution_count": 4,
   "id": "18bd7b47-a4be-4273-9aa3-29abd8bfb7ae",
   "metadata": {},
   "outputs": [
    {
     "name": "stdout",
     "output_type": "stream",
     "text": [
      "tensor([[ 0.3740, -2.1272, -2.8861,  1.4869, -1.4186, -1.2932, -1.0781, -0.4348,\n",
      "         -2.6468, -0.6137],\n",
      "        [ 1.3639, -2.4964, -2.6819,  0.9512, -2.4176, -1.8569, -0.9517, -0.8419,\n",
      "         -4.0295,  0.0875],\n",
      "        [ 2.1894, -2.5672, -2.1583,  0.3030, -3.1265, -2.1981, -0.7120, -1.1478,\n",
      "         -4.9292,  0.7770]])\n",
      "tensor([[ 5.3245, -2.6165,  0.1579, -2.3452, -5.7035, -3.3745,  0.3227, -2.2784,\n",
      "         -8.1111,  3.4925],\n",
      "        [ 4.5725, -1.0941,  1.8542, -2.9937, -4.2940, -2.2713,  0.9301, -1.7936,\n",
      "         -5.7333,  3.5088],\n",
      "        [ 3.6049,  0.3947,  3.3360, -3.4286, -2.7268, -1.1074,  1.4454, -1.2363,\n",
      "         -3.1763,  3.3220]])\n",
      "tensor([[ 1.5708,  0.0000],\n",
      "        [ 1.4760, -0.9318],\n",
      "        [ 1.2054, -1.7508]])\n",
      "tensor([[ 0.0000, -4.9000],\n",
      "        [-0.9318, -4.4121],\n",
      "        [-1.7508, -3.7011]])\n"
     ]
    }
   ],
   "source": [
    "#data['X'] is the X data\n",
    "#data['dX'] is the dX computed from f(t,x)\n",
    "#data['U'] and data['dU'] are the ground truth of the dynamical system in [theta, thetadot] state space\n",
    "print(data['X'][0:300:100,:]) \n",
    "print(data['dX'][0:300:100,:])\n",
    "print(data['U'][0:300:100,:])\n",
    "print(data['dU'][0:300:100,:])"
   ]
  },
  {
   "cell_type": "code",
   "execution_count": 5,
   "id": "5cf6c783-69ec-4b67-9a55-7249234fc075",
   "metadata": {},
   "outputs": [],
   "source": [
    "class Autoencoder(nn.Module):\n",
    "    def __init__(self):\n",
    "        super().__init__()        \n",
    "        self.encoder = nn.Sequential(\n",
    "            nn.Linear(10, 8),\n",
    "            nn.ReLU(),\n",
    "            nn.Linear(8, 4),\n",
    "            nn.ReLU(),\n",
    "            nn.Linear(4, 2) # -> N, 3\n",
    "        )\n",
    "        \n",
    "        self.decoder = nn.Sequential(\n",
    "            nn.Linear(2,4),\n",
    "            nn.ReLU(),\n",
    "            nn.Linear(4,8),\n",
    "            nn.ReLU(),\n",
    "            nn.Linear(8,10)\n",
    "        )\n",
    "\n",
    "    def forward(self, x):\n",
    "        encoded = self.encoder(x)\n",
    "        decoded = self.decoder(encoded)\n",
    "        return decoded\n",
    "\n",
    "    def get_dZ(self,x,x_pred,dx):\n",
    "         J = torch.autograd.functional.jacobian(self.encoder, x) # (dz/dt) = (dz/dx)(dx/dt)\n",
    "         return torch.matmul(J.T,dx)\n",
    "        \n",
    "# Input [-1, +1] -> use nn.Tanh"
   ]
  },
  {
   "cell_type": "code",
   "execution_count": null,
   "id": "24ca16ec-ef20-42fd-9028-69205a1d6049",
   "metadata": {},
   "outputs": [],
   "source": []
  },
  {
   "cell_type": "code",
   "execution_count": 6,
   "id": "6109e17c-8ebe-4218-8e3c-86af490fd52f",
   "metadata": {},
   "outputs": [],
   "source": [
    "model = Autoencoder()\n",
    "\n",
    "criterion = nn.MSELoss()\n",
    "optimizer = torch.optim.Adam(model.parameters(),lr=1e-3)"
   ]
  },
  {
   "cell_type": "code",
   "execution_count": 7,
   "id": "ca6392fc-ba56-494e-bff6-fc1b2f31b42d",
   "metadata": {},
   "outputs": [
    {
     "data": {
      "text/plain": [
       "tensor([[ 0.0176,  0.2859, -0.5121,  ...,  0.1253, -0.3087,  0.1057],\n",
       "        [ 0.0176,  0.2859, -0.5121,  ...,  0.1253, -0.3087,  0.1057],\n",
       "        [ 0.0176,  0.2859, -0.5121,  ...,  0.1253, -0.3087,  0.1057],\n",
       "        ...,\n",
       "        [ 0.0175,  0.2859, -0.5119,  ...,  0.1254, -0.3086,  0.1057],\n",
       "        [ 0.0175,  0.2859, -0.5119,  ...,  0.1254, -0.3086,  0.1057],\n",
       "        [ 0.0175,  0.2859, -0.5119,  ...,  0.1254, -0.3086,  0.1057]],\n",
       "       grad_fn=<AddmmBackward0>)"
      ]
     },
     "execution_count": 7,
     "metadata": {},
     "output_type": "execute_result"
    }
   ],
   "source": [
    "model.forward(data['X'])"
   ]
  },
  {
   "cell_type": "code",
   "execution_count": 8,
   "id": "52701ef4-a82c-41c8-b1af-f497f03472be",
   "metadata": {},
   "outputs": [],
   "source": [
    "# Point to training loop video\n",
    "num_epochs = 2000\n",
    "#outputs = []\n",
    "losses = []\n",
    "\n",
    "for epoch in range(num_epochs):\n",
    "    recon = model(data['X'])\n",
    "    loss = criterion(recon, data['X'])\n",
    "        \n",
    "    optimizer.zero_grad()\n",
    "    loss.backward()\n",
    "    optimizer.step()\n",
    "\n",
    "    #outputs.append((epoch, data['X'], recon))\n",
    "    #print(f'Epoch:{epoch+1}, Loss:{loss.item():.4f}')\n",
    "    losses.append(loss.item())"
   ]
  },
  {
   "cell_type": "code",
   "execution_count": 9,
   "id": "cc60278b-8e43-46ac-833d-a7a9f6d31ed7",
   "metadata": {},
   "outputs": [
    {
     "data": {
      "text/plain": [
       "Text(0.5, 1.0, 'log loss')"
      ]
     },
     "execution_count": 9,
     "metadata": {},
     "output_type": "execute_result"
    },
    {
     "data": {
      "image/png": "[encoded data removed]",
      "text/plain": [
       "<Figure size 432x288 with 1 Axes>"
      ]
     },
     "metadata": {
      "needs_background": "light"
     },
     "output_type": "display_data"
    }
   ],
   "source": [
    "plt.plot(np.log(np.array(losses)))\n",
    "plt.title(\"log loss\")"
   ]
  },
  {
   "cell_type": "code",
   "execution_count": 10,
   "id": "0e88039b-1d37-4fc9-a299-333411072276",
   "metadata": {},
   "outputs": [
    {
     "name": "stderr",
     "output_type": "stream",
     "text": [
      "/tmp/ipykernel_2701/2404806198.py:27: UserWarning: The use of `x.T` on tensors of dimension other than 2 to reverse their shape is deprecated and it will throw an error in a future release. Consider `x.mT` to transpose batches of matricesor `x.permute(*torch.arange(x.ndim - 1, -1, -1))` to reverse the dimensions of a tensor. (Triggered internally at  ../aten/src/ATen/native/TensorShape.cpp:2318.)\n",
      "  return torch.matmul(J.T,dx)\n"
     ]
    }
   ],
   "source": [
    "x = data['dX'][0:20,:]\n",
    "dx = data['dX'][0:20,:]\n",
    "\n",
    "z = model.encoder(x)\n",
    "dz = model.get_dZ(x,dx)"
   ]
  },
  {
   "cell_type": "code",
   "execution_count": 15,
   "id": "b9f9c53e-b051-424c-8412-c01e2a451b1f",
   "metadata": {},
   "outputs": [
    {
     "data": {
      "text/plain": [
       "tensor([[-12.5265,  -3.8357],\n",
       "        [-12.5405,  -3.8453],\n",
       "        [-12.5544,  -3.8549],\n",
       "        [-12.5683,  -3.8645],\n",
       "        [-12.5822,  -3.8741],\n",
       "        [-12.5961,  -3.8836],\n",
       "        [-12.6100,  -3.8932],\n",
       "        [-12.6239,  -3.9027],\n",
       "        [-12.6378,  -3.9123],\n",
       "        [-12.6516,  -3.9218],\n",
       "        [-12.6654,  -3.9313],\n",
       "        [-12.6792,  -3.9408],\n",
       "        [-12.6930,  -3.9503],\n",
       "        [-12.7068,  -3.9598],\n",
       "        [-12.7206,  -3.9693],\n",
       "        [-12.7343,  -3.9788],\n",
       "        [-12.7481,  -3.9882],\n",
       "        [-12.7618,  -3.9977],\n",
       "        [-12.7755,  -4.0071],\n",
       "        [-12.7892,  -4.0166]], grad_fn=<AddmmBackward0>)"
      ]
     },
     "execution_count": 15,
     "metadata": {},
     "output_type": "execute_result"
    }
   ],
   "source": [
    "z"
   ]
  },
  {
   "cell_type": "code",
   "execution_count": 14,
   "id": "4a6dd857-09b5-4166-85e7-56d158fa001d",
   "metadata": {},
   "outputs": [
    {
     "data": {
      "text/plain": [
       "torch.Size([20, 2])"
      ]
     },
     "execution_count": 14,
     "metadata": {},
     "output_type": "execute_result"
    }
   ],
   "source": [
    "z.shape"
   ]
  },
  {
   "cell_type": "code",
   "execution_count": 12,
   "id": "2a10a566-2d4d-4e72-87dd-81042769dad7",
   "metadata": {},
   "outputs": [
    {
     "data": {
      "text/plain": [
       "torch.Size([10, 20, 2, 10])"
      ]
     },
     "execution_count": 12,
     "metadata": {},
     "output_type": "execute_result"
    }
   ],
   "source": [
    "dz.shape"
   ]
  },
  {
   "cell_type": "code",
   "execution_count": 13,
   "id": "bbbc54df-87f8-4be7-b4d8-6dc8c85e295e",
   "metadata": {},
   "outputs": [
    {
     "ename": "TypeError",
     "evalue": "get_dZ() missing 1 required positional argument: 'dx'",
     "output_type": "error",
     "traceback": [
      "\u001b[0;31m---------------------------------------------------------------------------\u001b[0m",
      "\u001b[0;31mTypeError\u001b[0m                                 Traceback (most recent call last)",
      "Input \u001b[0;32mIn [13]\u001b[0m, in \u001b[0;36m<cell line: 1>\u001b[0;34m()\u001b[0m\n\u001b[0;32m----> 1\u001b[0m dZ \u001b[38;5;241m=\u001b[39m \u001b[43mmodel\u001b[49m\u001b[38;5;241;43m.\u001b[39;49m\u001b[43mget_dZ\u001b[49m\u001b[43m(\u001b[49m\u001b[43mdx\u001b[49m\u001b[43m)\u001b[49m\n",
      "\u001b[0;31mTypeError\u001b[0m: get_dZ() missing 1 required positional argument: 'dx'"
     ]
    }
   ],
   "source": [
    "dZ = model.get_dZ(dx)"
   ]
  },
  {
   "cell_type": "code",
   "execution_count": null,
   "id": "ba8ad448-ecf4-4fa9-b203-fc40f70193fb",
   "metadata": {},
   "outputs": [],
   "source": [
    "dZ.shape"
   ]
  },
  {
   "cell_type": "code",
   "execution_count": null,
   "id": "717a92bf-b3db-4867-b06b-935a686c7ec4",
   "metadata": {},
   "outputs": [],
   "source": [
    "_z = Z.detach().numpy()\n",
    "plt.plot(_z[:,0],_z[:,1])\n",
    "plt.title(\"Z\")"
   ]
  },
  {
   "cell_type": "code",
   "execution_count": null,
   "id": "cd281e7f-3eb1-40c8-9f3d-25cd98aacba9",
   "metadata": {},
   "outputs": [],
   "source": [
    "x = data['X'][0,:]\n",
    "dx = data['dX'][0,:]\n",
    "z = model.encoder(x).detach().numpy().reshape(-1,1)\n",
    "\n",
    "J = torch.autograd.functional.jacobian(model.encoder, dx).detach().numpy()\n",
    "\n",
    "dz = np.dot(J.T,z)\n",
    "\n",
    "print(dz.shape)"
   ]
  },
  {
   "cell_type": "code",
   "execution_count": null,
   "id": "064836c4-5c4d-4d3b-889a-affa9b381ec9",
   "metadata": {},
   "outputs": [],
   "source": [
    "x = data['X'][0,:]\n",
    "dx = data['dX'][0,:]\n",
    "z = model.encoder(x)\n",
    "\n",
    "J = torch.autograd.functional.jacobian(model.encoder, dx)\n",
    "\n",
    "print(z.shape)\n",
    "print(J.shape)\n",
    "dz = torch.matmul(J.T,z)\n"
   ]
  },
  {
   "cell_type": "code",
   "execution_count": null,
   "id": "8d9ff727-ddc8-41c0-905c-843064d67b0b",
   "metadata": {},
   "outputs": [],
   "source": [
    "X = torch.Tensor(sp.Z.T)\n",
    "recon = model(X)"
   ]
  },
  {
   "cell_type": "raw",
   "id": "3f828180-b414-4250-8288-275c31d48fca",
   "metadata": {},
   "source": [
    "loss = criterion(recon, X)\n",
    "optimizer.zero_grad()\n",
    "loss.backward()\n",
    "optimizer.step()\n"
   ]
  },
  {
   "cell_type": "code",
   "execution_count": null,
   "id": "6a4cbc4d-d276-482c-a4a1-09cec2c0b447",
   "metadata": {},
   "outputs": [],
   "source": [
    "recon"
   ]
  },
  {
   "cell_type": "code",
   "execution_count": null,
   "id": "72a0c755",
   "metadata": {},
   "outputs": [],
   "source": [
    "class SINDy(nn.Module):\n",
    "    def __init__(\n",
    "        self,\n",
    "        X, \n",
    "        X_dot=None, \n",
    "        libs=None, \n",
    "        feature_names=None\n",
    "    ):\n",
    "        super(SINDy, self).__init__()\n",
    "\n",
    "        n,m = X.size()\n",
    "        if feature_names == None:\n",
    "            feature_names = [f'x{i+1}' for i in range(m)]\n",
    "\n",
    "        self.X = X\n",
    "        self.X_dot = X_dot\n",
    "        self.feature_names = feature_names\n",
    "        self.num_features  = m\n",
    "        self.num_snapshots = n\n",
    "\n",
    "        self.candidate_terms = [ lambda x: torch.ones(self.num_snapshots) ]\n",
    "        self.candidate_names = ['1']\n",
    "        for lib in libs:\n",
    "            lib_candidates = lib.get_candidates(self.num_features, feature_names)\n",
    "            for term, name in lib_candidates:\n",
    "                self.candidate_terms.append(term)\n",
    "                self.candidate_names.append(name)\n",
    "\n",
    "        self.SINDy_forward = nn.Linear(\n",
    "            len(self.candidate_terms), \n",
    "            self.num_features, \n",
    "            bias=False\n",
    "        )\n",
    "        \n",
    "    def library(self):\n",
    "        print('library candidate terms:')\n",
    "        return self.candidate_names\n",
    "    \n",
    "    def model_parameters(self):\n",
    "        params = list(self.parameters())[0]\n",
    "        return params\n",
    "    \n",
    "    def theta(self,X):\n",
    "        return torch.stack(tuple(f(X) for f in self.candidate_terms), axis=1)\n",
    "\n",
    "    def forward(self):\n",
    "        theta_X = self.theta(self.X)\n",
    "        \n",
    "        # X_dot_predict = f(X) = Θ(X)Ξ = Θ(X)[ ξ1, ξ2, ..., ξn ]\n",
    "        X_dot_predict = self.SINDy_forward(theta_X)\n",
    "        return X_dot_predict"
   ]
  },
  {
   "cell_type": "code",
   "execution_count": null,
   "id": "ebd42d24",
   "metadata": {},
   "outputs": [],
   "source": [
    "# # \n",
    "# t = torch.linspace(0,2,100)\n",
    "\n",
    "# x = 10 * torch.exp(- 0.5 * t)\n",
    "# y = -2 * torch.exp(3 * t)\n",
    "\n",
    "# x_dot = - 0.5 * x\n",
    "# y_dot = 3 * y\n",
    "\n",
    "# X = torch.stack((x,y), dim=-1)\n",
    "# X_dot = torch.stack((x_dot,y_dot), dim=-1)\n",
    "# X[:5]\n",
    "\n",
    "# X_dot[:5,:]\n",
    "# ###################################################################################\n",
    "\n",
    "\n",
    "\n",
    "\n",
    "# libs  = [\n",
    "#   PolynomialLibrary(max_degree=1),\n",
    "#   TrigLibrary()\n",
    "# ]\n",
    "\n",
    "# sindy = SINDy(\n",
    "#     X, \n",
    "#     X_dot=X_dot, \n",
    "#     libs=libs,\n",
    "#     feature_names=['x', 'y']\n",
    "# )\n",
    "\n",
    "# print(sindy.library())\n",
    "# print(sindy.model_parameters())"
   ]
  },
  {
   "cell_type": "code",
   "execution_count": null,
   "id": "94658ebf",
   "metadata": {},
   "outputs": [],
   "source": [
    "# norm_2 = lambda X: torch.linalg.norm(X)\n",
    "\n",
    "# loss_fn = lambda X, X_pred: norm_2(X - X_pred)\n",
    "# optimizer = torch.optim.Adam(sindy.parameters(), lr=1e-3)"
   ]
  },
  {
   "cell_type": "code",
   "execution_count": null,
   "id": "c274c33d",
   "metadata": {},
   "outputs": [],
   "source": [
    "# epochs = 10000\n",
    "\n",
    "# for t in range(epochs):\n",
    "    \n",
    "#     X_dot_pred = sindy()\n",
    "#     loss = loss_fn(X_dot, X_dot_pred)\n",
    "    \n",
    "#     optimizer.zero_grad()\n",
    "#     loss.backward()\n",
    "#     optimizer.step()\n",
    "    \n",
    "#     if t % 1000 == 0:\n",
    "#         print(loss)\n",
    "\n",
    "# print(sindy.library())\n",
    "# sindy.model_parameters()"
   ]
  },
  {
   "cell_type": "code",
   "execution_count": null,
   "id": "d7bcd1c6",
   "metadata": {},
   "outputs": [],
   "source": [
    "# x1 = torch.tensor([\n",
    "#     [1,2],\n",
    "#     [3,4]\n",
    "# ])\n",
    "# x2 = x1 * 10\n",
    "# [*x for x in [x1,x2]]"
   ]
  }
 ],
 "metadata": {
  "kernelspec": {
   "display_name": "Python 3 (ipykernel)",
   "language": "python",
   "name": "python3"
  },
  "language_info": {
   "codemirror_mode": {
    "name": "ipython",
    "version": 3
   },
   "file_extension": ".py",
   "mimetype": "text/x-python",
   "name": "python",
   "nbconvert_exporter": "python",
   "pygments_lexer": "ipython3",
   "version": "3.9.10"
  }
 },
 "nbformat": 4,
 "nbformat_minor": 5
}
