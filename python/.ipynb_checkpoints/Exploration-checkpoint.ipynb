{
 "cells": [
  {
   "cell_type": "code",
   "execution_count": 1,
   "id": "631814dd",
   "metadata": {},
   "outputs": [],
   "source": [
    "import numpy\n",
    "import numpy as np\n",
    "import matplotlib.pyplot as plt\n",
    "import torch\n",
    "import torch.nn as nn\n",
    "import pprint as pp\n",
    "import matplotlib.pyplot as plt\n",
    "import torch\n",
    "import torch.nn as nn\n",
    "import torch.nn.functional as F\n",
    "import torch.optim as optim\n",
    "from torchvision import datasets, transforms\n",
    "import matplotlib.pyplot as plt\n",
    "\n",
    "from dynamicalsystems import SimplePendulum\n",
    "from regression import PolynomialLibrary, TrigLibrary"
   ]
  },
  {
   "cell_type": "code",
   "execution_count": 2,
   "id": "96b568d3-c708-4898-aecf-6f1a46532859",
   "metadata": {},
   "outputs": [],
   "source": [
    "sp = SimplePendulum(g=9.8,l=2,mu=0.5,theta0=np.pi/2) # Simple Pendulum simulated in state space\n",
    "\n",
    "sp.embed(n=10,mat='RANDN',mu=0,sigma=0.0) #embed the pendulum in a higer diminsional space with noise"
   ]
  },
  {
   "cell_type": "code",
   "execution_count": 3,
   "id": "32e467ce",
   "metadata": {},
   "outputs": [
    {
     "name": "stdout",
     "output_type": "stream",
     "text": [
      "['U', 'dU', 'X', 'dX']\n"
     ]
    }
   ],
   "source": [
    "data = sp.to_torch() #get the torch tensors\n",
    "\n",
    "print(list(data)) # U and dU are the state space representation theta while X and dX are embeded they are our transformed data "
   ]
  },
  {
   "cell_type": "code",
   "execution_count": 4,
   "id": "18bd7b47-a4be-4273-9aa3-29abd8bfb7ae",
   "metadata": {},
   "outputs": [
    {
     "name": "stdout",
     "output_type": "stream",
     "text": [
      "tensor([[-0.2103,  2.3286, -0.3165,  2.2510,  0.8540,  1.6119,  1.0513,  0.6745,\n",
      "          0.4228, -0.6823],\n",
      "        [-0.7674,  1.0733, -0.9691,  2.3669, -0.3238,  0.1967,  2.8500,  0.4014,\n",
      "          0.6572, -1.2207],\n",
      "        [-1.2320, -0.3077, -1.5049,  2.2003, -1.4608, -1.2393,  4.3055,  0.0810,\n",
      "          0.8128, -1.6126]])\n",
      "tensor([[-2.9966, -5.8621, -3.5322,  1.3238, -5.9225, -6.9302,  9.7922, -1.2219,\n",
      "          1.3669, -3.0478],\n",
      "        [-2.5735, -6.6597, -2.9927, -0.1434, -5.8394, -7.1964,  8.1935, -1.5003,\n",
      "          0.9800, -2.3395],\n",
      "        [-2.0291, -7.0232, -2.3152, -1.5091, -5.4252, -7.0311,  6.2245, -1.6747,\n",
      "          0.5612, -1.5415]])\n",
      "tensor([[ 1.5708,  0.0000],\n",
      "        [ 1.4760, -0.9318],\n",
      "        [ 1.2054, -1.7508]])\n",
      "tensor([[ 0.0000, -4.9000],\n",
      "        [-0.9318, -4.4121],\n",
      "        [-1.7508, -3.7011]])\n"
     ]
    }
   ],
   "source": [
    "#data['X'] is the X data\n",
    "#data['dX'] is the dX computed from f(t,x)\n",
    "#data['U'] and data['dU'] are the ground truth of the dynamical system in [theta, thetadot] state space\n",
    "print(data['X'][0:300:100,:]) \n",
    "print(data['dX'][0:300:100,:])\n",
    "print(data['U'][0:300:100,:])\n",
    "print(data['dU'][0:300:100,:])"
   ]
  },
  {
   "cell_type": "code",
   "execution_count": 5,
   "id": "5cf6c783-69ec-4b67-9a55-7249234fc075",
   "metadata": {},
   "outputs": [],
   "source": [
    "class Autoencoder(nn.Module):\n",
    "    def __init__(self):\n",
    "        super().__init__()        \n",
    "        self.encoder = nn.Sequential(\n",
    "            nn.Linear(10, 8),\n",
    "            nn.ReLU(),\n",
    "            nn.Linear(8, 4),\n",
    "            nn.ReLU(),\n",
    "            nn.Linear(4, 2) # -> N, 3\n",
    "        )\n",
    "        \n",
    "        self.decoder = nn.Sequential(\n",
    "            nn.Linear(2,4),\n",
    "            nn.ReLU(),\n",
    "            nn.Linear(4,8),\n",
    "            nn.ReLU(),\n",
    "            nn.Linear(8,10)\n",
    "        )\n",
    "\n",
    "    def forward(self, x):\n",
    "        encoded = self.encoder(x)\n",
    "        decoded = self.decoder(encoded)\n",
    "        return decoded\n",
    "\n",
    "    def get_dZ(self,dx):\n",
    "         Z = self.encoder(dx)\n",
    "         J = torch.autograd.functional.jacobian(self.encoder, dx)\n",
    "         return torch.matmul(J.T,Z)\n",
    "        \n",
    "# Input [-1, +1] -> use nn.Tanh"
   ]
  },
  {
   "cell_type": "code",
   "execution_count": 6,
   "id": "6109e17c-8ebe-4218-8e3c-86af490fd52f",
   "metadata": {},
   "outputs": [],
   "source": [
    "model = Autoencoder()\n",
    "\n",
    "criterion = nn.MSELoss()\n",
    "optimizer = torch.optim.Adam(model.parameters(),lr=1e-3)"
   ]
  },
  {
   "cell_type": "code",
   "execution_count": 7,
   "id": "ca6392fc-ba56-494e-bff6-fc1b2f31b42d",
   "metadata": {},
   "outputs": [
    {
     "data": {
      "text/plain": [
       "tensor([[ 0.1274,  0.4543, -0.1190,  ..., -0.3025,  0.2635, -0.1216],\n",
       "        [ 0.1274,  0.4543, -0.1190,  ..., -0.3025,  0.2635, -0.1216],\n",
       "        [ 0.1274,  0.4543, -0.1190,  ..., -0.3025,  0.2635, -0.1216],\n",
       "        ...,\n",
       "        [ 0.1274,  0.4543, -0.1190,  ..., -0.3025,  0.2635, -0.1216],\n",
       "        [ 0.1274,  0.4543, -0.1190,  ..., -0.3025,  0.2635, -0.1216],\n",
       "        [ 0.1274,  0.4543, -0.1190,  ..., -0.3025,  0.2635, -0.1216]],\n",
       "       grad_fn=<AddmmBackward0>)"
      ]
     },
     "execution_count": 7,
     "metadata": {},
     "output_type": "execute_result"
    }
   ],
   "source": [
    "model.forward(data['X'])"
   ]
  },
  {
   "cell_type": "code",
   "execution_count": 8,
   "id": "52701ef4-a82c-41c8-b1af-f497f03472be",
   "metadata": {},
   "outputs": [],
   "source": [
    "# Point to training loop video\n",
    "num_epochs = 2000\n",
    "#outputs = []\n",
    "losses = []\n",
    "\n",
    "for epoch in range(num_epochs):\n",
    "    recon = model(data['X'])\n",
    "    loss = criterion(recon, data['X'])\n",
    "        \n",
    "    optimizer.zero_grad()\n",
    "    loss.backward()\n",
    "    optimizer.step()\n",
    "\n",
    "    #outputs.append((epoch, data['X'], recon))\n",
    "    #print(f'Epoch:{epoch+1}, Loss:{loss.item():.4f}')\n",
    "    losses.append(loss.item())"
   ]
  },
  {
   "cell_type": "code",
   "execution_count": 9,
   "id": "cc60278b-8e43-46ac-833d-a7a9f6d31ed7",
   "metadata": {},
   "outputs": [
    {
     "data": {
      "text/plain": [
       "Text(0.5, 1.0, 'log loss')"
      ]
     },
     "execution_count": 9,
     "metadata": {},
     "output_type": "execute_result"
    },
    {
     "data": {
      "image/png": "[encoded data removed]",
      "text/plain": [
       "<Figure size 432x288 with 1 Axes>"
      ]
     },
     "metadata": {
      "needs_background": "light"
     },
     "output_type": "display_data"
    }
   ],
   "source": [
    "plt.plot(np.log(np.array(losses)))\n",
    "plt.title(\"log loss\")"
   ]
  },
  {
   "cell_type": "code",
   "execution_count": 25,
   "id": "0e88039b-1d37-4fc9-a299-333411072276",
   "metadata": {},
   "outputs": [],
   "source": [
    "Z = model.encoder(data['X'])"
   ]
  },
  {
   "cell_type": "code",
   "execution_count": 27,
   "id": "4a6dd857-09b5-4166-85e7-56d158fa001d",
   "metadata": {},
   "outputs": [
    {
     "data": {
      "text/plain": [
       "torch.Size([10000, 10])"
      ]
     },
     "execution_count": 27,
     "metadata": {},
     "output_type": "execute_result"
    }
   ],
   "source": [
    "data['dX'].shape"
   ]
  },
  {
   "cell_type": "code",
   "execution_count": 29,
   "id": "bbbc54df-87f8-4be7-b4d8-6dc8c85e295e",
   "metadata": {},
   "outputs": [],
   "source": [
    "dZ = model.get_dZ(data['dX'][0:20,:])"
   ]
  },
  {
   "cell_type": "code",
   "execution_count": 34,
   "id": "ba8ad448-ecf4-4fa9-b203-fc40f70193fb",
   "metadata": {},
   "outputs": [
    {
     "data": {
      "text/plain": [
       "torch.Size([10, 20, 2])"
      ]
     },
     "execution_count": 34,
     "metadata": {},
     "output_type": "execute_result"
    }
   ],
   "source": [
    "dZ.sum(axis=3).shape"
   ]
  },
  {
   "cell_type": "code",
   "execution_count": 12,
   "id": "717a92bf-b3db-4867-b06b-935a686c7ec4",
   "metadata": {},
   "outputs": [
    {
     "data": {
      "text/plain": [
       "Text(0.5, 1.0, 'Z')"
      ]
     },
     "execution_count": 12,
     "metadata": {},
     "output_type": "execute_result"
    },
    {
     "data": {
      "image/png": "[encoded data removed]",
      "text/plain": [
       "<Figure size 432x288 with 1 Axes>"
      ]
     },
     "metadata": {
      "needs_background": "light"
     },
     "output_type": "display_data"
    }
   ],
   "source": [
    "_z = Z.detach().numpy()\n",
    "plt.plot(_z[:,0],_z[:,1])\n",
    "plt.title(\"Z\")"
   ]
  },
  {
   "cell_type": "code",
   "execution_count": 13,
   "id": "cd281e7f-3eb1-40c8-9f3d-25cd98aacba9",
   "metadata": {},
   "outputs": [
    {
     "name": "stdout",
     "output_type": "stream",
     "text": [
      "(10, 1)\n"
     ]
    }
   ],
   "source": [
    "x = data['X'][0,:]\n",
    "dx = data['dX'][0,:]\n",
    "z = model.encoder(x).detach().numpy().reshape(-1,1)\n",
    "\n",
    "J = torch.autograd.functional.jacobian(model.encoder, dx).detach().numpy()\n",
    "\n",
    "dz = np.dot(J.T,z)\n",
    "\n",
    "print(dz.shape)"
   ]
  },
  {
   "cell_type": "code",
   "execution_count": 14,
   "id": "064836c4-5c4d-4d3b-889a-affa9b381ec9",
   "metadata": {},
   "outputs": [
    {
     "name": "stdout",
     "output_type": "stream",
     "text": [
      "torch.Size([2])\n",
      "torch.Size([2, 10])\n"
     ]
    }
   ],
   "source": [
    "x = data['X'][0,:]\n",
    "dx = data['dX'][0,:]\n",
    "z = model.encoder(x)\n",
    "\n",
    "J = torch.autograd.functional.jacobian(model.encoder, dx)\n",
    "\n",
    "print(z.shape)\n",
    "print(J.shape)\n",
    "dz = torch.matmul(J.T,z)\n"
   ]
  },
  {
   "cell_type": "code",
   "execution_count": 15,
   "id": "8d9ff727-ddc8-41c0-905c-843064d67b0b",
   "metadata": {},
   "outputs": [],
   "source": [
    "X = torch.Tensor(sp.Z.T)\n",
    "recon = model(X)"
   ]
  },
  {
   "cell_type": "raw",
   "id": "3f828180-b414-4250-8288-275c31d48fca",
   "metadata": {},
   "source": [
    "loss = criterion(recon, X)\n",
    "optimizer.zero_grad()\n",
    "loss.backward()\n",
    "optimizer.step()\n"
   ]
  },
  {
   "cell_type": "code",
   "execution_count": 16,
   "id": "6a4cbc4d-d276-482c-a4a1-09cec2c0b447",
   "metadata": {},
   "outputs": [
    {
     "data": {
      "text/plain": [
       "tensor([[-0.3137,  0.8541, -0.4359,  ...,  0.4177,  0.3992, -0.6704],\n",
       "        [-0.3220,  0.8762, -0.4479,  ...,  0.4294,  0.4103, -0.6888],\n",
       "        [-0.3299,  0.8972, -0.4594,  ...,  0.4406,  0.4209, -0.7064],\n",
       "        ...,\n",
       "        [ 0.0104,  0.0335,  0.0104,  ...,  0.0075, -0.0021,  0.0064],\n",
       "        [ 0.0103,  0.0335,  0.0103,  ...,  0.0075, -0.0021,  0.0063],\n",
       "        [ 0.0103,  0.0334,  0.0103,  ...,  0.0075, -0.0020,  0.0062]],\n",
       "       grad_fn=<AddmmBackward0>)"
      ]
     },
     "execution_count": 16,
     "metadata": {},
     "output_type": "execute_result"
    }
   ],
   "source": [
    "recon"
   ]
  },
  {
   "cell_type": "code",
   "execution_count": 17,
   "id": "72a0c755",
   "metadata": {},
   "outputs": [],
   "source": [
    "class SINDy(nn.Module):\n",
    "    def __init__(\n",
    "        self,\n",
    "        X, \n",
    "        X_dot=None, \n",
    "        libs=None, \n",
    "        feature_names=None\n",
    "    ):\n",
    "        super(SINDy, self).__init__()\n",
    "\n",
    "        n,m = X.size()\n",
    "        if feature_names == None:\n",
    "            feature_names = [f'x{i+1}' for i in range(m)]\n",
    "\n",
    "        self.X = X\n",
    "        self.X_dot = X_dot\n",
    "        self.feature_names = feature_names\n",
    "        self.num_features  = m\n",
    "        self.num_snapshots = n\n",
    "\n",
    "        self.candidate_terms = [ lambda x: torch.ones(self.num_snapshots) ]\n",
    "        self.candidate_names = ['1']\n",
    "        for lib in libs:\n",
    "            lib_candidates = lib.get_candidates(self.num_features, feature_names)\n",
    "            for term, name in lib_candidates:\n",
    "                self.candidate_terms.append(term)\n",
    "                self.candidate_names.append(name)\n",
    "\n",
    "        self.SINDy_forward = nn.Linear(\n",
    "            len(self.candidate_terms), \n",
    "            self.num_features, \n",
    "            bias=False\n",
    "        )\n",
    "        \n",
    "    def library(self):\n",
    "        print('library candidate terms:')\n",
    "        return self.candidate_names\n",
    "    \n",
    "    def model_parameters(self):\n",
    "        params = list(self.parameters())[0]\n",
    "        return params\n",
    "    \n",
    "    def theta(self,X):\n",
    "        return torch.stack(tuple(f(X) for f in self.candidate_terms), axis=1)\n",
    "\n",
    "    def forward(self):\n",
    "        theta_X = self.theta(self.X)\n",
    "        \n",
    "        # X_dot_predict = f(X) = Θ(X)Ξ = Θ(X)[ ξ1, ξ2, ..., ξn ]\n",
    "        X_dot_predict = self.SINDy_forward(theta_X)\n",
    "        return X_dot_predict"
   ]
  },
  {
   "cell_type": "code",
   "execution_count": 18,
   "id": "ebd42d24",
   "metadata": {},
   "outputs": [],
   "source": [
    "# # \n",
    "# t = torch.linspace(0,2,100)\n",
    "\n",
    "# x = 10 * torch.exp(- 0.5 * t)\n",
    "# y = -2 * torch.exp(3 * t)\n",
    "\n",
    "# x_dot = - 0.5 * x\n",
    "# y_dot = 3 * y\n",
    "\n",
    "# X = torch.stack((x,y), dim=-1)\n",
    "# X_dot = torch.stack((x_dot,y_dot), dim=-1)\n",
    "# X[:5]\n",
    "\n",
    "# X_dot[:5,:]\n",
    "# ###################################################################################\n",
    "\n",
    "\n",
    "\n",
    "\n",
    "# libs  = [\n",
    "#   PolynomialLibrary(max_degree=1),\n",
    "#   TrigLibrary()\n",
    "# ]\n",
    "\n",
    "# sindy = SINDy(\n",
    "#     X, \n",
    "#     X_dot=X_dot, \n",
    "#     libs=libs,\n",
    "#     feature_names=['x', 'y']\n",
    "# )\n",
    "\n",
    "# print(sindy.library())\n",
    "# print(sindy.model_parameters())"
   ]
  },
  {
   "cell_type": "code",
   "execution_count": 19,
   "id": "94658ebf",
   "metadata": {},
   "outputs": [],
   "source": [
    "# norm_2 = lambda X: torch.linalg.norm(X)\n",
    "\n",
    "# loss_fn = lambda X, X_pred: norm_2(X - X_pred)\n",
    "# optimizer = torch.optim.Adam(sindy.parameters(), lr=1e-3)"
   ]
  },
  {
   "cell_type": "code",
   "execution_count": 20,
   "id": "c274c33d",
   "metadata": {},
   "outputs": [],
   "source": [
    "# epochs = 10000\n",
    "\n",
    "# for t in range(epochs):\n",
    "    \n",
    "#     X_dot_pred = sindy()\n",
    "#     loss = loss_fn(X_dot, X_dot_pred)\n",
    "    \n",
    "#     optimizer.zero_grad()\n",
    "#     loss.backward()\n",
    "#     optimizer.step()\n",
    "    \n",
    "#     if t % 1000 == 0:\n",
    "#         print(loss)\n",
    "\n",
    "# print(sindy.library())\n",
    "# sindy.model_parameters()"
   ]
  },
  {
   "cell_type": "code",
   "execution_count": 21,
   "id": "d7bcd1c6",
   "metadata": {},
   "outputs": [],
   "source": [
    "# x1 = torch.tensor([\n",
    "#     [1,2],\n",
    "#     [3,4]\n",
    "# ])\n",
    "# x2 = x1 * 10\n",
    "# [*x for x in [x1,x2]]"
   ]
  }
 ],
 "metadata": {
  "kernelspec": {
   "display_name": "Python 3 (ipykernel)",
   "language": "python",
   "name": "python3"
  },
  "language_info": {
   "codemirror_mode": {
    "name": "ipython",
    "version": 3
   },
   "file_extension": ".py",
   "mimetype": "text/x-python",
   "name": "python",
   "nbconvert_exporter": "python",
   "pygments_lexer": "ipython3",
   "version": "3.9.10"
  }
 },
 "nbformat": 4,
 "nbformat_minor": 5
}
