{
 "cells": [
  {
   "cell_type": "code",
   "execution_count": 1,
   "id": "1088a74e-8363-404d-b751-45c340e036e6",
   "metadata": {},
   "outputs": [],
   "source": [
    "import numpy as np\n",
    "import matplotlib.pyplot as plt\n",
    "from dynamicalsystems import SimplePendulum"
   ]
  },
  {
   "cell_type": "markdown",
   "id": "3d2b7fef-93da-4fe6-9eb3-ec6b2ef9ad3f",
   "metadata": {},
   "source": [
    "lets simulate a simple pendulum"
   ]
  },
  {
   "cell_type": "code",
   "execution_count": 2,
   "id": "b28959df-a7fe-4a33-8675-a68e5352611a",
   "metadata": {},
   "outputs": [
    {
     "name": "stdout",
     "output_type": "stream",
     "text": [
      "[[-1.413857   -1.41562703 -1.41739176 ...  0.0110342   0.01137152\n",
      "   0.0117086 ]\n",
      " [-0.07532227 -0.0764756  -0.07762813 ... -0.03748226 -0.03735732\n",
      "  -0.03723227]\n",
      " [-1.8976455  -1.89085338 -1.88405874 ...  0.34437183  0.3438986\n",
      "   0.34342392]\n",
      " [ 1.21994271  1.22066039  1.22137391 ... -0.0386234  -0.03883269\n",
      "  -0.03904167]\n",
      " [-1.63441116 -1.63854028 -1.64266223 ... -0.06212244 -0.06152213\n",
      "  -0.06092181]]\n"
     ]
    }
   ],
   "source": [
    "sp = SimplePendulum(g=9.8,l=2,mu=0.5,theta0=np.pi/2) #simulate pendulum\n",
    "sp.embed(n=5,mat='RANDN',mu=0,sigma=0.0) #embed the pendulum in a higer diminsional space with noise\n",
    "print(sp.Z)"
   ]
  },
  {
   "cell_type": "code",
   "execution_count": 3,
   "id": "ce4340eb-f3c5-4a12-a2c4-2407f0314858",
   "metadata": {},
   "outputs": [],
   "source": [
    "import torch"
   ]
  },
  {
   "cell_type": "code",
   "execution_count": null,
   "id": "ed2ffbf4-5a08-4575-8ff9-ad1b64efa5ab",
   "metadata": {},
   "outputs": [],
   "source": []
  },
  {
   "cell_type": "code",
   "execution_count": null,
   "id": "138c6187-53f7-46d7-997a-2d7dcb741965",
   "metadata": {},
   "outputs": [],
   "source": []
  }
 ],
 "metadata": {
  "kernelspec": {
   "display_name": "Python 3 (ipykernel)",
   "language": "python",
   "name": "python3"
  },
  "language_info": {
   "codemirror_mode": {
    "name": "ipython",
    "version": 3
   },
   "file_extension": ".py",
   "mimetype": "text/x-python",
   "name": "python",
   "nbconvert_exporter": "python",
   "pygments_lexer": "ipython3",
   "version": "3.9.10"
  }
 },
 "nbformat": 4,
 "nbformat_minor": 5
}
